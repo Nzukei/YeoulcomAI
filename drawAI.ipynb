{
 "cells": [
  {
   "cell_type": "markdown",
   "metadata": {
    "id": "6_0GkP1FS7oT"
   },
   "source": [
    "# AI 이미지 생성"
   ]
  },
  {
   "cell_type": "markdown",
   "metadata": {
    "id": "wPNgmFzUTNrp"
   },
   "source": [
    "## 필요한 라이브러리, 패키치 설치"
   ]
  },
  {
   "cell_type": "code",
   "execution_count": 1,
   "metadata": {
    "colab": {
     "base_uri": "https://localhost:8080/"
    },
    "executionInfo": {
     "elapsed": 38,
     "status": "ok",
     "timestamp": 1667346170682,
     "user": {
      "displayName": "이서준",
      "userId": "03708622575096971828"
     },
     "user_tz": -540
    },
    "id": "Y8FcOzZUS9UA",
    "outputId": "5d8dae5c-9690-4c0f-ccf1-fb4306514081"
   },
   "outputs": [
    {
     "name": "stdout",
     "output_type": "stream",
     "text": [
      "zsh:1: command not found: nvidia-smi\r\n"
     ]
    }
   ],
   "source": [
    "!nvidia-smi  # GUI 성능 확인"
   ]
  },
  {
   "cell_type": "code",
   "execution_count": 2,
   "metadata": {
    "colab": {
     "base_uri": "https://localhost:8080/"
    },
    "executionInfo": {
     "elapsed": 4177,
     "status": "ok",
     "timestamp": 1667346174841,
     "user": {
      "displayName": "이서준",
      "userId": "03708622575096971828"
     },
     "user_tz": -540
    },
    "id": "eCHWokiTTCad",
    "outputId": "a070a330-5ea8-40d2-f5c5-2b43e6649dd9"
   },
   "outputs": [
    {
     "name": "stdout",
     "output_type": "stream",
     "text": [
      "zsh:1: command not found: pip\r\n"
     ]
    }
   ],
   "source": [
    "# keras 설치\n",
    "!pip install --upgrade keras-cv"
   ]
  },
  {
   "cell_type": "code",
   "execution_count": null,
   "metadata": {
    "executionInfo": {
     "elapsed": 3805,
     "status": "ok",
     "timestamp": 1667346178642,
     "user": {
      "displayName": "이서준",
      "userId": "03708622575096971828"
     },
     "user_tz": -540
    },
    "id": "JveF2YwcTJSe",
    "pycharm": {
     "is_executing": true
    }
   },
   "outputs": [],
   "source": [
    "import time\n",
    "import keras_cv\n",
    "from tensorflow import keras\n",
    "import matplotlib.pyplot as plt"
   ]
  },
  {
   "cell_type": "markdown",
   "metadata": {
    "id": "UAPI73j8TV6Z"
   },
   "source": [
    "## Stable Diffustion 모델 전이학습"
   ]
  },
  {
   "cell_type": "code",
   "execution_count": null,
   "metadata": {
    "colab": {
     "base_uri": "https://localhost:8080/"
    },
    "executionInfo": {
     "elapsed": 114668,
     "status": "ok",
     "timestamp": 1667346293302,
     "user": {
      "displayName": "이서준",
      "userId": "03708622575096971828"
     },
     "user_tz": -540
    },
    "id": "x10RFMaTTUzi",
    "outputId": "caf9ef77-c803-4c0b-ea5f-9e6eed818ee0",
    "pycharm": {
     "is_executing": true
    }
   },
   "outputs": [],
   "source": [
    "model = keras_cv.models.StableDiffusion(img_width=512, img_height=512) # 3~5분 정도 소요"
   ]
  },
  {
   "cell_type": "code",
   "execution_count": null,
   "metadata": {
    "executionInfo": {
     "elapsed": 11,
     "status": "ok",
     "timestamp": 1667346293303,
     "user": {
      "displayName": "이서준",
      "userId": "03708622575096971828"
     },
     "user_tz": -540
    },
    "id": "q2P45zuNTh6g",
    "pycharm": {
     "is_executing": true
    }
   },
   "outputs": [],
   "source": [
    "# 이미지 보여주는 부분\n",
    "def plot_images(images):\n",
    "  plt.figure(figsize=(20, 20))\n",
    "  for i in range(len(images)):\n",
    "    ax = plt.subplot(1, len(images), i + 1)\n",
    "    plt.imshow(images[i])\n",
    "    plt.axis(\"off\")\n",
    "    plt.tight_layout()"
   ]
  },
  {
   "cell_type": "markdown",
   "metadata": {
    "id": "V_-WDXXgUK-v"
   },
   "source": [
    "# 첫 번째 이미지 생성\n",
    "\n",
    "\n",
    "\n",
    "> 우주인이 말을 타고 있는 사진"
   ]
  },
  {
   "cell_type": "code",
   "execution_count": null,
   "metadata": {
    "colab": {
     "base_uri": "https://localhost:8080/",
     "height": 322
    },
    "executionInfo": {
     "elapsed": 101591,
     "status": "ok",
     "timestamp": 1667346394884,
     "user": {
      "displayName": "이서준",
      "userId": "03708622575096971828"
     },
     "user_tz": -540
    },
    "id": "varrZZy9UKgx",
    "outputId": "d6ca9890-5893-4ad6-c28b-bd2b02c5f8ae",
    "pycharm": {
     "is_executing": true
    }
   },
   "outputs": [],
   "source": [
    "images = model.text_to_image(\"photograph of an astronaut riding a horse\", batch_size=3)\n",
    "\n",
    "plot_images(images)"
   ]
  },
  {
   "cell_type": "markdown",
   "metadata": {
    "id": "J2ZPuDU4U2qb"
   },
   "source": [
    "# 한글 --> 영어 번역 기능\n",
    "## 필요한 라이브러리, 패키지 설치"
   ]
  },
  {
   "cell_type": "code",
   "execution_count": null,
   "metadata": {
    "colab": {
     "base_uri": "https://localhost:8080/"
    },
    "executionInfo": {
     "elapsed": 3572,
     "status": "ok",
     "timestamp": 1667346398442,
     "user": {
      "displayName": "이서준",
      "userId": "03708622575096971828"
     },
     "user_tz": -540
    },
    "id": "YB1WjSegUbrk",
    "outputId": "d05df36a-1f3a-4654-b6ca-15e8da4ccf6f",
    "pycharm": {
     "is_executing": true
    }
   },
   "outputs": [],
   "source": [
    "!pip install translate"
   ]
  },
  {
   "cell_type": "code",
   "execution_count": null,
   "metadata": {
    "colab": {
     "base_uri": "https://localhost:8080/",
     "height": 35
    },
    "executionInfo": {
     "elapsed": 437,
     "status": "ok",
     "timestamp": 1667346398874,
     "user": {
      "displayName": "이서준",
      "userId": "03708622575096971828"
     },
     "user_tz": -540
    },
    "id": "p9cLt2GxU_B9",
    "outputId": "65829726-d05e-4dcb-cc07-cfb916a2e571",
    "pycharm": {
     "is_executing": true
    }
   },
   "outputs": [],
   "source": [
    "from translate import Translator\n",
    "\n",
    "translator = Translator(from_lang=\"ko\", to_lang=\"en\")\n",
    "\n",
    "translation = translator.translate(\"펭귄이 곰한테 뽀뽀하는 모습\")\n",
    "\n",
    "translation"
   ]
  },
  {
   "cell_type": "markdown",
   "metadata": {
    "id": "pX2kkLTuVUR8"
   },
   "source": [
    "## 함수화"
   ]
  },
  {
   "cell_type": "code",
   "execution_count": null,
   "metadata": {
    "colab": {
     "base_uri": "https://localhost:8080/",
     "height": 359
    },
    "executionInfo": {
     "elapsed": 65668,
     "status": "ok",
     "timestamp": 1667346464538,
     "user": {
      "displayName": "이서준",
      "userId": "03708622575096971828"
     },
     "user_tz": -540
    },
    "id": "5DixDGO1VS2U",
    "outputId": "7354ae02-2440-4759-fdde-2853f6bbaa0a",
    "pycharm": {
     "is_executing": true
    }
   },
   "outputs": [],
   "source": [
    "def generate_images(text, n=3):\n",
    "  print(text)\n",
    "  translation = translator.translate(text)\n",
    "  print(translation)\n",
    "\n",
    "  images = model.text_to_image(translation, batch_size=n)\n",
    "\n",
    "  return images\n",
    "\n",
    "images = generate_images(\"펭귄이 곰한테 뽀뽀하는 모습\")\n",
    "\n",
    "plot_images(images)"
   ]
  },
  {
   "cell_type": "markdown",
   "metadata": {
    "id": "MU1QhTBaV4Ls"
   },
   "source": [
    "# 웹 애플리케이션으로 만들기\n",
    "## 필요한 패키지, 라이브러리 설치"
   ]
  },
  {
   "cell_type": "code",
   "execution_count": null,
   "metadata": {
    "colab": {
     "base_uri": "https://localhost:8080/"
    },
    "executionInfo": {
     "elapsed": 23730,
     "status": "ok",
     "timestamp": 1667346488253,
     "user": {
      "displayName": "이서준",
      "userId": "03708622575096971828"
     },
     "user_tz": -540
    },
    "id": "0RvxiyAjV9ol",
    "outputId": "a28d75f3-1632-451a-e4fd-70b7e7d5b7d0",
    "pycharm": {
     "is_executing": true
    }
   },
   "outputs": [],
   "source": [
    "!pip install -q gradio"
   ]
  },
  {
   "cell_type": "code",
   "execution_count": null,
   "metadata": {
    "colab": {
     "base_uri": "https://localhost:8080/",
     "height": 1000
    },
    "id": "xkNmtrgcV_bg",
    "outputId": "cad0fa81-8d3c-44a3-8c0b-2203fcde9081",
    "pycharm": {
     "is_executing": true
    }
   },
   "outputs": [],
   "source": [
    "import gradio as gr\n",
    "\n",
    "def inference(text):\n",
    "  image = generate_images(text, 1).squeeze()\n",
    "  return image\n",
    "\n",
    "demo = gr.Interface(fn=inference, inputs=\"text\", outputs=\"image\")\n",
    "\n",
    "demo.launch(debug=True)"
   ]
  }
 ],
 "metadata": {
  "accelerator": "GPU",
  "colab": {
   "authorship_tag": "ABX9TyNNW1IoFbibhoxK5MFauhSF",
   "collapsed_sections": [],
   "provenance": [
    {
     "file_id": "1YFmdjZtrc65Aa63xY4qRwkP3382ZLkfi",
     "timestamp": 1667347962406
    }
   ]
  },
  "gpuClass": "standard",
  "kernelspec": {
   "display_name": "Python 3 (ipykernel)",
   "language": "python",
   "name": "python3"
  },
  "language_info": {
   "codemirror_mode": {
    "name": "ipython",
    "version": 3
   },
   "file_extension": ".py",
   "mimetype": "text/x-python",
   "name": "python",
   "nbconvert_exporter": "python",
   "pygments_lexer": "ipython3",
   "version": "3.9.12"
  }
 },
 "nbformat": 4,
 "nbformat_minor": 1
}
